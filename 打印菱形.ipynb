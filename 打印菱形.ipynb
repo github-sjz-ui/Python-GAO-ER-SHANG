{
 "cells": [
  {
   "cell_type": "code",
   "execution_count": 1,
   "metadata": {},
   "outputs": [
    {
     "name": "stdout",
     "output_type": "stream",
     "text": [
      "    *\n",
      "   ***\n",
      "  *****\n",
      " *******\n",
      "*********\n",
      " *******\n",
      "  *****\n",
      "   ***\n",
      "    *\n"
     ]
    }
   ],
   "source": [
    "n=5\n",
    "for i in range (1,n+1):\n",
    "    k=(n-i)*' '\n",
    "    t=(2*i-1)*'*'\n",
    "    print(k+t)\n",
    "for i in range(1,n):\n",
    "    k=i*' '\n",
    "    t=(-2*i+2*n-1)*'*'\n",
    "    print(k+t)"
   ]
  },
  {
   "cell_type": "code",
   "execution_count": 2,
   "metadata": {},
   "outputs": [
    {
     "name": "stdout",
     "output_type": "stream",
     "text": [
      "     *\n",
      "    ***\n",
      "   *****\n",
      "  *******\n",
      " *********\n",
      "***********\n",
      " *********\n",
      "  *******\n",
      "   *****\n",
      "    ***\n",
      "     *\n"
     ]
    }
   ],
   "source": [
    "n=6\n",
    "for i in range (1,n+1):\n",
    "    k=(n-i)*' '\n",
    "    t=(2*i-1)*'*'\n",
    "    print(k+t)\n",
    "for i in range(1,n):\n",
    "    k=i*' '\n",
    "    t=(-2*i+2*n-1)*'*'\n",
    "    print(k+t)"
   ]
  },
  {
   "cell_type": "code",
   "execution_count": 3,
   "metadata": {},
   "outputs": [
    {
     "name": "stdout",
     "output_type": "stream",
     "text": [
      "      *\n",
      "     ***\n",
      "    *****\n",
      "   *******\n",
      "  *********\n",
      " ***********\n",
      "*************\n",
      " ***********\n",
      "  *********\n",
      "   *******\n",
      "    *****\n",
      "     ***\n",
      "      *\n"
     ]
    }
   ],
   "source": [
    "n=7\n",
    "for i in range (1,n+1):\n",
    "    k=(n-i)*' '\n",
    "    t=(2*i-1)*'*'\n",
    "    print(k+t)\n",
    "for i in range(1,n):\n",
    "    k=i*' '\n",
    "    t=(-2*i+2*n-1)*'*'\n",
    "    print(k+t)"
   ]
  }
 ],
 "metadata": {
  "kernelspec": {
   "display_name": "Python 3",
   "language": "python",
   "name": "python3"
  },
  "language_info": {
   "codemirror_mode": {
    "name": "ipython",
    "version": 3
   },
   "file_extension": ".py",
   "mimetype": "text/x-python",
   "name": "python",
   "nbconvert_exporter": "python",
   "pygments_lexer": "ipython3",
   "version": "3.10.6"
  },
  "orig_nbformat": 4,
  "vscode": {
   "interpreter": {
    "hash": "820320049c973d08414d0ef3032693fcfff86c67564922b6e169a30f375ba1cf"
   }
  }
 },
 "nbformat": 4,
 "nbformat_minor": 2
}
