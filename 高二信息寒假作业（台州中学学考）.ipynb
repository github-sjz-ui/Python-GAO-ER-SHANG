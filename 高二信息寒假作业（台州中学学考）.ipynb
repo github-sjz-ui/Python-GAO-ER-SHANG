{
 "cells": [
  {
   "attachments": {},
   "cell_type": "markdown",
   "metadata": {},
   "source": [
    "# 1、鸡兔同笼<br>\n",
    "【题目描述】<br>\n",
    "数学中经典的“鸡兔同笼”问题，已知头共x个，脚共y只，问笼中的鸡和兔各有多少只?<br>\n",
    "【输入】输入头和脚的数量。<br>\n",
    "【输出】鸡和兔各自数量。一个空格隔开。<br>\n",
    "【输入样例】30 90<br>\n",
    "【输出样例】15 15<br>\n"
   ]
  },
  {
   "cell_type": "code",
   "execution_count": 1,
   "metadata": {},
   "outputs": [
    {
     "name": "stdout",
     "output_type": "stream",
     "text": [
      "鸡有15只，兔有15只\n",
      "None\n"
     ]
    }
   ],
   "source": [
    "def app(a, b):\n",
    "    x = (4 * a - b) / 2\n",
    "    if a != 0 and (4 * a - b) % (x * 2) == 0:\n",
    "        y = a - x\n",
    "        if x < 0 or y < 0:\n",
    "            print(\"{}只动物{}条腿的情况无解\".format(a, b))\n",
    "        else:\n",
    "            print(\"鸡有{}只，兔有{}只\".format(int(x), int(y)))\n",
    "    else:\n",
    "        print(\"{}只动物{}条腿的情况无解\".format(a, b))\n",
    "\n",
    "\n",
    "a = input(\"请输入鸡和兔的总数\\n\")\n",
    "b = input(\"请输入鸡和兔的脚数\\n\")\n",
    "\n",
    "a = int(a)\n",
    "b = int(b)\n",
    "\n",
    "print(app(a, b))"
   ]
  },
  {
   "cell_type": "code",
   "execution_count": 2,
   "metadata": {},
   "outputs": [
    {
     "name": "stdout",
     "output_type": "stream",
     "text": [
      "15.0 15.0\n"
     ]
    }
   ],
   "source": [
    "list1=input('输入数据有一行，共2个整数n和m，以空格分隔。').split(' ')\n",
    "n=int(list1[0]);m=int(list1[1])\n",
    "x=2*n-0.5*m#鸡的数量\n",
    "y=0.5*m-n#兔的数量\n",
    "print(x,y)"
   ]
  },
  {
   "attachments": {},
   "cell_type": "markdown",
   "metadata": {},
   "source": [
    "# 2、区间测速2\n",
    "【题目描述】<br>\n",
    "现有两个相距25km的监测点，给定汽车经过两个监测点的时间。请判断汽车是否超速，以及超速的严重程度。<br>\n",
    "【输入】<br>\n",
    "一个整数t，表示汽车经过两个监测点的时间差是t秒。<br>\n",
    "【输出】<br>\n",
    "输出有两行。第一行输出平均车速，用round()函数保留一位小数。<br>\n",
    "第二行判断超速情况。如果汽车没有超速，则输出“正常”；否则根据情况输出：<br>\n",
    "(1)、100<v<120，输出“超过规定时速且不足20%”<br>\n",
    "(2)、120≤v<150，输出 “超过规定时速20%以上且不足50%”<br>\n",
    "(3)、150≤v<170，输出  “超过规定时速50%以上且不足70%”<br>\n",
    "(4)、v≥170，输出“超过规定时速70%以上”。<br>\n",
    "【输入样例】720<br>\n",
    "【输出样例】125.0超过规定时速20%以上且不足50%<br>\n"
   ]
  },
  {
   "cell_type": "code",
   "execution_count": 4,
   "metadata": {},
   "outputs": [
    {
     "name": "stdout",
     "output_type": "stream",
     "text": [
      "125.0\n",
      "超过规定时速20%以上且不足50%\n"
     ]
    }
   ],
   "source": [
    "t=int(input('请输入时间'))\n",
    "v=25000/t*3.6\n",
    "print(round(v,1))\n",
    "if 100<v<120:\n",
    "\tprint('超过规定时速且不足20%')\n",
    "elif 120<=v<150:\n",
    "\tprint('超过规定时速20%以上且不足50%')\n",
    "elif 150<=v<170:\n",
    "\tprint('超过规定时速50%以上且不足70%')\n",
    "elif v>=170:\n",
    "\tprint('超过规定时速70%以上')\n",
    "else:\n",
    "\tprint('正常')"
   ]
  },
  {
   "attachments": {},
   "cell_type": "markdown",
   "metadata": {},
   "source": [
    "# 3、沃利斯公式\n",
    "【题目描述】<br>\n",
    "使用沃利斯公式求圆周率 π。<br>\n",
    "【输入】（无）<br>\n",
    "【输出】一行一个浮点数，表示圆周率 π。精确到小数点后4位。<br>\n",
    "【输入样例】（无）<br>\n",
    "【输出样例】3.1415<br>\n"
   ]
  },
  {
   "cell_type": "code",
   "execution_count": 5,
   "metadata": {},
   "outputs": [
    {
     "name": "stdout",
     "output_type": "stream",
     "text": [
      "3.1416\n"
     ]
    }
   ],
   "source": [
    "count=1#判断奇、偶位\n",
    "result=1\n",
    "while count<=1000000:\n",
    "    if count%2==0:\n",
    "        a=count#分子\n",
    "        b=a+1#分母\n",
    "    else:\n",
    "        a=count+1\n",
    "        b=count\n",
    "    new=a/b\n",
    "    count+=1\n",
    "    result*=new\n",
    "print(round(result*2,4))"
   ]
  },
  {
   "attachments": {},
   "cell_type": "markdown",
   "metadata": {},
   "source": [
    "# 4、百钱买百鸡\n",
    "【题目描述】<br>\n",
    "百钱买百鸡问题。鸡翁一，值钱五，鸡母一，值钱三，鸡雏三，值钱一，百钱买百鸡，问鸡翁、鸡母、鸡雏各几何？<br>\n",
    "【输入】(无)<br>\n",
    "【输出】输出各种鸡翁、鸡母、鸡雏的数量，依次由小到大，每种情况各占一行,每行三个数之间用一个空格隔开。<br>\n"
   ]
  },
  {
   "cell_type": "code",
   "execution_count": 6,
   "metadata": {},
   "outputs": [
    {
     "name": "stdout",
     "output_type": "stream",
     "text": [
      "小鸡 78 母鸡 18 公鸡 4\n",
      "小鸡 81 母鸡 11 公鸡 8\n",
      "小鸡 84 母鸡 4 公鸡 12\n"
     ]
    }
   ],
   "source": [
    "xj = 1\n",
    "while xj <= 100:\n",
    "    mj = 1\n",
    "    while mj <= 100:\n",
    "        gj = 1\n",
    "        while gj <= 100:\n",
    "            if xj/3 + mj *3 + gj * 5 == 100 and xj + mj + gj==100:\n",
    "                print('小鸡', xj, '母鸡', mj, '公鸡', gj)\n",
    "            gj += 1\n",
    "        mj += 1\n",
    "    xj += 1\n"
   ]
  },
  {
   "attachments": {},
   "cell_type": "markdown",
   "metadata": {},
   "source": [
    "# 5、约瑟夫问题\n",
    "【题目描述】<br>\n",
    "N个人围成一圈，从第一个人开始报数，数到M的人出圈；再由下一个人开始报数，数到M的人出圈；…输出依次出圈的人的编号。<br>\n",
    "【输入】输入N和M。<br>\n",
    "【输出】输出一行，依次出圈的人的编号。<br>\n",
    "【输入样例】8 5<br>\n",
    "【输出样例】5 2 8 7 1 4 6 3<br>\n"
   ]
  },
  {
   "cell_type": "code",
   "execution_count": 7,
   "metadata": {},
   "outputs": [
    {
     "name": "stdout",
     "output_type": "stream",
     "text": [
      "5 2 8 7 1 4 6 3 "
     ]
    }
   ],
   "source": [
    "n=int(input())\n",
    "m=int(input())\n",
    "s=''\n",
    "index=0\n",
    "for i in range(1,n+1):\n",
    "    s+=str(i)\n",
    "while len(s)!=0:\n",
    "    result=s[(index+m-1)%len(s)]\n",
    "    print(result,end=' ')\n",
    "    index=(index+m-1)%len(s)\n",
    "    ss=result\n",
    "    sss=\"\"\n",
    "    for i in s:\n",
    "        if i in ss:\n",
    "            continue\n",
    "        else:\n",
    "            sss+=i\n",
    "    s=sss"
   ]
  }
 ],
 "metadata": {
  "kernelspec": {
   "display_name": "Python 3",
   "language": "python",
   "name": "python3"
  },
  "language_info": {
   "codemirror_mode": {
    "name": "ipython",
    "version": 3
   },
   "file_extension": ".py",
   "mimetype": "text/x-python",
   "name": "python",
   "nbconvert_exporter": "python",
   "pygments_lexer": "ipython3",
   "version": "3.11.1"
  },
  "orig_nbformat": 4,
  "vscode": {
   "interpreter": {
    "hash": "a1e4c7a4bd0bb0171eaa9abf7347078dd23aa788749a03d85760465821c5e053"
   }
  }
 },
 "nbformat": 4,
 "nbformat_minor": 2
}
