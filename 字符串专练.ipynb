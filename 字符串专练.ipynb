{
 "cells": [
  {
   "attachments": {},
   "cell_type": "markdown",
   "metadata": {},
   "source": [
    "一、回文字符串\n",
    "“回文字符串”是一种正读和反读都一样的字符串，比如“12321”或者“ablewasiereisawelba”等就是回文字符串，现在要求吧字符串看成一个环，求环中能截取的最长回文字符串，当存在多组长度相同的回文字符串的时候，输出第一次找到的即可。\n"
   ]
  },
  {
   "cell_type": "code",
   "execution_count": 12,
   "metadata": {},
   "outputs": [
    {
     "name": "stdout",
     "output_type": "stream",
     "text": [
      "字符串最长的回文字符串是：12321\n"
     ]
    },
    {
     "ename": "SystemExit",
     "evalue": "0",
     "output_type": "error",
     "traceback": [
      "An exception has occurred, use %tb to see the full traceback.\n",
      "\u001b[1;31mSystemExit\u001b[0m\u001b[1;31m:\u001b[0m 0\n"
     ]
    },
    {
     "name": "stderr",
     "output_type": "stream",
     "text": [
      "c:\\Users\\沈纪中\\AppData\\Local\\Programs\\Python\\Python310\\lib\\site-packages\\IPython\\core\\interactiveshell.py:3441: UserWarning: To exit: use 'exit', 'quit', or Ctrl-D.\n",
      "  warn(\"To exit: use 'exit', 'quit', or Ctrl-D.\", stacklevel=1)\n"
     ]
    }
   ],
   "source": [
    "import sys\n",
    "def palindrom(s):\n",
    "    if s==s[::-1] :#①\n",
    "        return True\n",
    "    else:\n",
    "        return False\n",
    "s=input(\"请输入字符串：\")\n",
    "n=len(s)\n",
    "s=s*2\n",
    "t=\"\"\n",
    "for i in range(n,1,-1):#②\n",
    "    for j in range(0,n):\n",
    "        t=s[j:j+i]#③\n",
    "        if palindrom(t):\n",
    "            print(\"字符串最长的回文字符串是：\"+t)\n",
    "            sys.exit(0)#提前结束程序"
   ]
  },
  {
   "attachments": {},
   "cell_type": "markdown",
   "metadata": {},
   "source": [
    "二、检测密码强度\n",
    "编写程序实现如下功能：输入要检测的密码，输出密码强度结果。密码字符分为数字字符、字母和其他符号三类。密码强度的检测方法为：若密码位数少于8位，则不进行强度检测，给出提示“密码位数不少于8位，请重新输入！”。若密码位数少于8位及以上，则进行强度检测：若密码字符属于同一类字符，则密码强度为“弱”；若密码字符属于不同的两类字符，则木马强度为“中等”;若密码字符属于不同的三类字符，则密码强度为“强”。\n"
   ]
  },
  {
   "cell_type": "code",
   "execution_count": 4,
   "metadata": {},
   "outputs": [
    {
     "name": "stdout",
     "output_type": "stream",
     "text": [
      "强\n"
     ]
    }
   ],
   "source": [
    "password=input(\"请输入要检测的密码：\")\n",
    "n=len(password)\n",
    "x=0\n",
    "n1=n2=n3=0\n",
    "if n<8:\n",
    "    print(\"请重新输入：\")\n",
    "else:\n",
    "    for i in range(0,n):\n",
    "        ch=password[i]#①\n",
    "        if \"0\"<=ch<=\"9\":\n",
    "            n1=1#②\n",
    "        elif \"a\"<=ch<=\"z\" or \"A\"<=ch<=\"Z\":\n",
    "            n2=1\n",
    "        else:\n",
    "            n3=1\n",
    "    x=n1+n2+n3#③\n",
    "    if x==3:\n",
    "        print(\"强\")\n",
    "    elif x==2:\n",
    "        print(\"中等\")\n",
    "    else:\n",
    "        print(\"弱\")"
   ]
  },
  {
   "attachments": {},
   "cell_type": "markdown",
   "metadata": {},
   "source": [
    "三、替代密码\n",
    "替代密码是明文中的每个字符根据密钥替代成密文中的另一个字符，替代后的各个字符保持原来的位置。要求：如果明文是大写字母，则需要转小写；如果明文是数字，则需根据密钥进行相应迁移，例如密钥为3，则0变成3,8变成1，其他字符不做任何处理。如：Hello*2021，密钥：9，结果：hello*1910\n"
   ]
  },
  {
   "cell_type": "code",
   "execution_count": 3,
   "metadata": {},
   "outputs": [
    {
     "name": "stdout",
     "output_type": "stream",
     "text": [
      "hello1910\n"
     ]
    }
   ],
   "source": [
    "def change(code,key):\n",
    "    m=\"\"\n",
    "    if \"A\"<=code<=\"Z\":\n",
    "        m=chr(ord(code)+32)#①\n",
    "    elif \"0\"<=code<=\"9\":\n",
    "        code=int(code)\n",
    "        m=str((code+key)%10)#②\n",
    "    else:\n",
    "        m=code\n",
    "    return m\n",
    "code=input(\"请输入要加密的明文:\")\n",
    "key=int(input(\"请输入密钥：\"))\n",
    "code_new=\"\"\n",
    "for i in code:\n",
    "    code_new+=change(i,key)#③\n",
    "print(code_new)"
   ]
  },
  {
   "attachments": {},
   "cell_type": "markdown",
   "metadata": {},
   "source": [
    "四、连续字符串升序段\n",
    "输入一串由英文字母和数字组成的字符串；如果字符串有连续字符构成的升序段（后面字符的ascii值比前面的ascii值大1），则把升序段suoxiecheng-由第一个字符加上“-”和最后的一个字符组成的新字符段，例如：字符串为“abcdf12345becomexy”，则缩写成“a-df1-5becomex-y”\n"
   ]
  },
  {
   "cell_type": "code",
   "execution_count": 11,
   "metadata": {},
   "outputs": [
    {
     "name": "stdout",
     "output_type": "stream",
     "text": [
      "a-df1-5becomex-y\n"
     ]
    }
   ],
   "source": [
    "s=input(\"请输入字符串：\")\n",
    "k=len(s)#①\n",
    "flag=False\n",
    "result=\"\"\n",
    "for i in range(0,k-1):\n",
    "    if ord(s[i+1])-ord(s[i])==1 and not flag:#②\n",
    "        result=result+s[i]+\"-\"\n",
    "        flag=True\n",
    "    elif ord(s[i])!=ord(s[i+1])-1:\n",
    "        result+=s[i]\n",
    "        flag=False\n",
    "result+=s[-1]#③\n",
    "print(result)"
   ]
  },
  {
   "attachments": {},
   "cell_type": "markdown",
   "metadata": {},
   "source": [
    "五、删除指定字符串\n",
    "小王设计“删除字符”程序，用python编写程序实现：从一段字符串中删除指定的字符串，并将处理后的字符串重新输出。例如：输入待删除字符串“I love zhejiang”,删除字符串“e”，输出结果“I lov zhjiang”。\n"
   ]
  },
  {
   "cell_type": "code",
   "execution_count": 14,
   "metadata": {},
   "outputs": [
    {
     "name": "stdout",
     "output_type": "stream",
     "text": [
      "删除后的字符串为：I lov zhjiang\n",
      "共删除了2处\n"
     ]
    }
   ],
   "source": [
    "source=input(\"请输入待删除的字符串：\")\n",
    "delstr=input(\"请输入需要删除的字符串：\")\n",
    "count=0\n",
    "n1=len(source)\n",
    "n2=len(delstr)\n",
    "i=0\n",
    "while i<=n1-n2:\n",
    "    ch=source[i]#①\n",
    "    if ch==delstr:\n",
    "        source=source[:i]+source[i+1:]#②\n",
    "        n1=len(source)\n",
    "        count+=1\n",
    "        i-=1#③\n",
    "    i+=1\n",
    "print(\"删除后的字符串为：\"+source)\n",
    "print(\"共删除了\"+str(count)+\"处\")"
   ]
  },
  {
   "attachments": {},
   "cell_type": "markdown",
   "metadata": {},
   "source": [
    "六、查找不重复字符的最长子串\n",
    "一个字符串的某一个子串中可能含有重复出现的字符,如字符串\"abab”的其中一个子串\"aba\"就含有2个重复出现的字符“a\"。小明设计了一个寻找无重复字符的最长子串的算法,具体步骤如下:\n",
    "步骤1:初始化最长无重复字符子串的长度maxn=0。\n",
    "步骤2:初始化字符串长度n,字符串索引left=0,right=0。\n",
    "步骤3:判断right是否超过字符串长度,若超过则执行步骤4,否则判断字符串从位置left到位置right是否有重复字符:若存在重复,则将索引left的值修改为存在重复字符索引值+1;若不存在重复,则判断该子串长度是否比maxn大,若比maxn大,则更新maxn的值。修改right的值。重复步骤3。\n",
    "步骤4:输出maxn的值。实现上述功能的程序如下,请在划线处填入合适的代码。\n"
   ]
  },
  {
   "cell_type": "code",
   "execution_count": 16,
   "metadata": {},
   "outputs": [
    {
     "name": "stdout",
     "output_type": "stream",
     "text": [
      "2\n"
     ]
    }
   ],
   "source": [
    "def search(s,c):\n",
    "    for i in range(len(s)):\n",
    "        if s[i] == c:#①\n",
    "            return i \n",
    "s=input(\"请输入字符串：\")\n",
    "maxn=0\n",
    "left=0\n",
    "right=0\n",
    "n=len(s)#②\n",
    "while right<n:\n",
    "    if s[right] in s[left:right]:\n",
    "        k=search(s[left:right],s[right])\n",
    "        left=k+1#③\n",
    "    else:\n",
    "        if right-left+1>maxn:\n",
    "            maxn=right-left+1\n",
    "    right+=1\n",
    "print(maxn)"
   ]
  }
 ],
 "metadata": {
  "kernelspec": {
   "display_name": "Python 3",
   "language": "python",
   "name": "python3"
  },
  "language_info": {
   "codemirror_mode": {
    "name": "ipython",
    "version": 3
   },
   "file_extension": ".py",
   "mimetype": "text/x-python",
   "name": "python",
   "nbconvert_exporter": "python",
   "pygments_lexer": "ipython3",
   "version": "3.10.6"
  },
  "orig_nbformat": 4,
  "vscode": {
   "interpreter": {
    "hash": "820320049c973d08414d0ef3032693fcfff86c67564922b6e169a30f375ba1cf"
   }
  }
 },
 "nbformat": 4,
 "nbformat_minor": 2
}
