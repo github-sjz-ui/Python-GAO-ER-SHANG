{
 "cells": [
  {
   "attachments": {},
   "cell_type": "markdown",
   "metadata": {},
   "source": [
    "# 题1：\n",
    "输入一串包含数字的字符串，求出数字子串的和。<br>\n",
    "如：输入\"辞22旧岁迎23新年，心想事成666\"，输出22+23+666的结果：711。\n"
   ]
  },
  {
   "cell_type": "code",
   "execution_count": 12,
   "metadata": {},
   "outputs": [
    {
     "name": "stdout",
     "output_type": "stream",
     "text": [
      "711\n"
     ]
    }
   ],
   "source": [
    "n='辞22旧岁迎23新年，心想事成666'\n",
    "def f(n):\n",
    "    i=0\n",
    "    sum=0\n",
    "    list1=['0','1','2','3','4','5','6','7','8','9']\n",
    "    while i <= len(n)-1:\n",
    "        if n[i] in list1:\n",
    "            j=i\n",
    "            while j<=len(n)-1:\n",
    "                if n[j] not in list1:    \n",
    "                    j-=1\n",
    "                    break\n",
    "                j+=1\n",
    "            if j == i:\n",
    "                sum+=int(n[i])\n",
    "            else:\n",
    "                sum+=int(n[i:j+1])\n",
    "            i=j+1\n",
    "        else:\n",
    "            i+=1\n",
    "    return sum\n",
    "print(f(n))"
   ]
  },
  {
   "cell_type": "code",
   "execution_count": 1,
   "metadata": {},
   "outputs": [
    {
     "name": "stdout",
     "output_type": "stream",
     "text": [
      "711\n"
     ]
    }
   ],
   "source": [
    "def f(n):  \n",
    "    s=','\n",
    "    for i in n:\n",
    "        if '0'<=i<='9':\n",
    "            s+=i\n",
    "        if not '0'<=i<='9' and s[-1]!=',':\n",
    "            s+=','\n",
    "    s=s[1:]\n",
    "    if s[-1]==',':\n",
    "        s=s[:-1]\n",
    "    list1=s.split(',')\n",
    "    sum=0\n",
    "    for i in list1:\n",
    "        sum+=int(i)\n",
    "    return sum\n",
    "n='辞22旧岁迎23新年，心想事成666'\n",
    "print(f(n))"
   ]
  },
  {
   "attachments": {},
   "cell_type": "markdown",
   "metadata": {},
   "source": [
    "# 题2： \n",
    "随机产生x(0<x<26)个不重复的大写字母"
   ]
  },
  {
   "cell_type": "code",
   "execution_count": 16,
   "metadata": {},
   "outputs": [
    {
     "name": "stdout",
     "output_type": "stream",
     "text": [
      "EGIUYF\n"
     ]
    }
   ],
   "source": [
    "from random import *\n",
    "def f(n):\n",
    "    a=[0]*26\n",
    "    b=[]\n",
    "    result=''\n",
    "    for i in range(26):\n",
    "        a[i]=i+1\n",
    "    for i in range(26):\n",
    "        n=randint(0,len(a)-1)\n",
    "        b.append(a[n])\n",
    "        a.pop(n)\n",
    "    for i in b:\n",
    "        result+=chr(ord('A')+i-1)\n",
    "    return result\n",
    "x=int(input('随机产生x(0<x<26)个不重复的大写字母'))\n",
    "print(f(n)[:x])"
   ]
  }
 ],
 "metadata": {
  "kernelspec": {
   "display_name": "Python 3",
   "language": "python",
   "name": "python3"
  },
  "language_info": {
   "codemirror_mode": {
    "name": "ipython",
    "version": 3
   },
   "file_extension": ".py",
   "mimetype": "text/x-python",
   "name": "python",
   "nbconvert_exporter": "python",
   "pygments_lexer": "ipython3",
   "version": "3.11.1"
  },
  "orig_nbformat": 4,
  "vscode": {
   "interpreter": {
    "hash": "a1e4c7a4bd0bb0171eaa9abf7347078dd23aa788749a03d85760465821c5e053"
   }
  }
 },
 "nbformat": 4,
 "nbformat_minor": 2
}
