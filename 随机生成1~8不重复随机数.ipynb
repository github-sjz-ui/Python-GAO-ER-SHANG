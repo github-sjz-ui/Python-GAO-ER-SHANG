{
 "cells": [
  {
   "cell_type": "code",
   "execution_count": 1,
   "metadata": {},
   "outputs": [
    {
     "name": "stdout",
     "output_type": "stream",
     "text": [
      "72134658\n"
     ]
    }
   ],
   "source": [
    "from random import *\n",
    "a=[0]*8\n",
    "for i in range(8):\n",
    "    a[i]=i+1\n",
    "k=8;s=\"\"\n",
    "for i in range(8):\n",
    "    m=randint(0,k-1)\n",
    "    s+=str(a[m])#3   \n",
    "    a[m]=a[k-1]#2\n",
    "    k-=1#1\n",
    "print(s)"
   ]
  },
  {
   "cell_type": "code",
   "execution_count": 16,
   "metadata": {},
   "outputs": [
    {
     "name": "stdout",
     "output_type": "stream",
     "text": [
      "86312745\n"
     ]
    }
   ],
   "source": [
    "#生成1~8不重复随机数\n",
    "from random import *\n",
    "s=''\n",
    "a=[0]*8\n",
    "for i in range(8):\n",
    "    a[i]=i+1\n",
    "for i in range(8):\n",
    "    n=randint(0,len(a)-1)\n",
    "    s+=str(a[n])\n",
    "    del a[n]\n",
    "print(s)"
   ]
  },
  {
   "cell_type": "code",
   "execution_count": 18,
   "metadata": {},
   "outputs": [
    {
     "ename": "IndexError",
     "evalue": "pop index out of range",
     "output_type": "error",
     "traceback": [
      "\u001b[1;31m---------------------------------------------------------------------------\u001b[0m",
      "\u001b[1;31mIndexError\u001b[0m                                Traceback (most recent call last)",
      "Cell \u001b[1;32mIn[18], line 10\u001b[0m\n\u001b[0;32m      8\u001b[0m     n\u001b[39m=\u001b[39mrandint(\u001b[39m0\u001b[39m,\u001b[39mlen\u001b[39m(a)\u001b[39m-\u001b[39m\u001b[39m1\u001b[39m)\n\u001b[0;32m      9\u001b[0m     s\u001b[39m+\u001b[39m\u001b[39m=\u001b[39m\u001b[39mstr\u001b[39m(a[n])\n\u001b[1;32m---> 10\u001b[0m     a\u001b[39m.\u001b[39;49mpop(a[n])\n\u001b[0;32m     11\u001b[0m \u001b[39mprint\u001b[39m(s)\n",
      "\u001b[1;31mIndexError\u001b[0m: pop index out of range"
     ]
    }
   ],
   "source": [
    "#生成1~8不重复随机数\n",
    "from random import *\n",
    "s=''\n",
    "a=[0]*8\n",
    "for i in range(8):\n",
    "    a[i]=i+1\n",
    "for i in range(8):\n",
    "    n=randint(0,len(a)-1)\n",
    "    s+=str(a[n])\n",
    "    a.pop(a[n])\n",
    "print(s)"
   ]
  }
 ],
 "metadata": {
  "kernelspec": {
   "display_name": "Python 3.10.6 64-bit",
   "language": "python",
   "name": "python3"
  },
  "language_info": {
   "codemirror_mode": {
    "name": "ipython",
    "version": 3
   },
   "file_extension": ".py",
   "mimetype": "text/x-python",
   "name": "python",
   "nbconvert_exporter": "python",
   "pygments_lexer": "ipython3",
   "version": "3.10.6"
  },
  "orig_nbformat": 4,
  "vscode": {
   "interpreter": {
    "hash": "820320049c973d08414d0ef3032693fcfff86c67564922b6e169a30f375ba1cf"
   }
  }
 },
 "nbformat": 4,
 "nbformat_minor": 2
}
