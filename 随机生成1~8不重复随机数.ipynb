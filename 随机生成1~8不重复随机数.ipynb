{
 "cells": [
  {
   "cell_type": "code",
   "execution_count": 7,
   "metadata": {},
   "outputs": [
    {
     "name": "stdout",
     "output_type": "stream",
     "text": [
      "41673582\n"
     ]
    }
   ],
   "source": [
    "from random import *\n",
    "a=[0]*8\n",
    "for i in range(8):\n",
    "    a[i]=i+1\n",
    "k=8;s=\"\"\n",
    "for i in range(8):\n",
    "    m=randint(0,k-1)\n",
    "    s+=str(a[m])#3   \n",
    "    a[m]=a[k-1]#2\n",
    "    k-=1#1\n",
    "print(s)"
   ]
  },
  {
   "cell_type": "code",
   "execution_count": 6,
   "metadata": {},
   "outputs": [
    {
     "name": "stdout",
     "output_type": "stream",
     "text": [
      "25431687\n"
     ]
    }
   ],
   "source": [
    "#生成1~8不重复随机数\n",
    "from random import *\n",
    "s=''\n",
    "a=[0]*8\n",
    "for i in range(8):\n",
    "    a[i]=i+1\n",
    "for i in range(8):\n",
    "    n=randint(0,len(a)-1)\n",
    "    s+=str(a[n])\n",
    "    del a[n]\n",
    "print(s)"
   ]
  },
  {
   "cell_type": "code",
   "execution_count": 4,
   "metadata": {},
   "outputs": [
    {
     "name": "stdout",
     "output_type": "stream",
     "text": [
      "62315874\n"
     ]
    }
   ],
   "source": [
    "#生成1~8不重复随机数\n",
    "from random import *\n",
    "s=''\n",
    "a=[0]*8\n",
    "for i in range(8):\n",
    "    a[i]=i+1\n",
    "for i in range(8):\n",
    "    n=randint(0,len(a)-1)\n",
    "    s+=str(a[n])\n",
    "    a.pop(n)\n",
    "print(s)"
   ]
  },
  {
   "cell_type": "code",
   "execution_count": 10,
   "metadata": {},
   "outputs": [
    {
     "name": "stdout",
     "output_type": "stream",
     "text": [
      "74285136\n"
     ]
    }
   ],
   "source": [
    "#生成1~8不重复随机数\n",
    "from random import *\n",
    "s=''\n",
    "a=[0]*8\n",
    "for i in range(8):\n",
    "    a[i]=i+1\n",
    "for i in range(8):\n",
    "    n=randint(0,len(a)-1)\n",
    "    s+=str(a[n])\n",
    "    a.remove(a[n])\n",
    "print(s)"
   ]
  }
 ],
 "metadata": {
  "kernelspec": {
   "display_name": "Python 3.10.6 64-bit",
   "language": "python",
   "name": "python3"
  },
  "language_info": {
   "codemirror_mode": {
    "name": "ipython",
    "version": 3
   },
   "file_extension": ".py",
   "mimetype": "text/x-python",
   "name": "python",
   "nbconvert_exporter": "python",
   "pygments_lexer": "ipython3",
   "version": "3.10.6"
  },
  "orig_nbformat": 4,
  "vscode": {
   "interpreter": {
    "hash": "820320049c973d08414d0ef3032693fcfff86c67564922b6e169a30f375ba1cf"
   }
  }
 },
 "nbformat": 4,
 "nbformat_minor": 2
}
